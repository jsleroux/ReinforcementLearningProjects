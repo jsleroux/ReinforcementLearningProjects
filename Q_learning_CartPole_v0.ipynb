{
  "nbformat": 4,
  "nbformat_minor": 0,
  "metadata": {
    "colab": {
      "name": "Q-learning - CartPole-v0.ipynb",
      "version": "0.3.2",
      "provenance": [],
      "collapsed_sections": [],
      "include_colab_link": true
    },
    "kernelspec": {
      "name": "python3",
      "display_name": "Python 3"
    },
    "accelerator": "GPU"
  },
  "cells": [
    {
      "cell_type": "markdown",
      "metadata": {
        "id": "view-in-github",
        "colab_type": "text"
      },
      "source": [
        "<a href=\"https://colab.research.google.com/github/jsleroux/ReinforcementLearningProjects/blob/master/Q_learning_CartPole_v0.ipynb\" target=\"_parent\"><img src=\"https://colab.research.google.com/assets/colab-badge.svg\" alt=\"Open In Colab\"/></a>"
      ]
    },
    {
      "cell_type": "markdown",
      "metadata": {
        "id": "YFPiaSkHWpA6",
        "colab_type": "text"
      },
      "source": [
        "QLearning - CartPole\n",
        "\n",
        "### Inspiration\n",
        "- Original version of the code was taken from the exercices of CS188@Berkeley\n",
        "- Collections.deque trick to compute running average: https://ferdinand-muetsch.de/cartpole-with-qlearning-first-experiences-with-openai-gym.html"
      ]
    },
    {
      "cell_type": "markdown",
      "metadata": {
        "id": "odNaDE1zyrL2",
        "colab_type": "text"
      },
      "source": [
        "### Frozen Lake testing"
      ]
    },
    {
      "cell_type": "code",
      "metadata": {
        "id": "8-AxnvAVyzQQ",
        "colab_type": "code",
        "colab": {}
      },
      "source": [
        "#remove \" > /dev/null 2>&1\" to see what is going on under the hood\n",
        "!pip install gym pyvirtualdisplay > /dev/null 2>&1\n",
        "!apt-get install -y xvfb python-opengl ffmpeg > /dev/null 2>&1"
      ],
      "execution_count": 0,
      "outputs": []
    },
    {
      "cell_type": "markdown",
      "metadata": {
        "id": "8A-1LTSH88EE",
        "colab_type": "text"
      },
      "source": [
        "Dependencies"
      ]
    },
    {
      "cell_type": "code",
      "metadata": {
        "id": "TCelFzWY9MBI",
        "colab_type": "code",
        "outputId": "f0128465-53e7-441b-b01d-fc081b0006e7",
        "colab": {
          "base_uri": "https://localhost:8080/",
          "height": 35
        }
      },
      "source": [
        "!apt-get update > /dev/null 2>&1\n",
        "!apt-get install cmake > /dev/null 2>&1\n",
        "!pip install --upgrade setuptools 2>&1\n",
        "!pip install ez_setup > /dev/null 2>&1\n",
        "!pip install gym[atari] > /dev/null 2>&1\n",
        "!pip install torch==1.0.0 > /dev/null 2>&1"
      ],
      "execution_count": 0,
      "outputs": [
        {
          "output_type": "stream",
          "text": [
            "Requirement already up-to-date: setuptools in /usr/local/lib/python3.6/dist-packages (41.0.1)\n"
          ],
          "name": "stdout"
        }
      ]
    },
    {
      "cell_type": "markdown",
      "metadata": {
        "id": "APXSx7hg19TH",
        "colab_type": "text"
      },
      "source": [
        "# Imports and Helper functions\n"
      ]
    },
    {
      "cell_type": "code",
      "metadata": {
        "id": "pdb2JwZy4jGj",
        "colab_type": "code",
        "colab": {}
      },
      "source": [
        "import gym\n",
        "from gym import logger as gymlogger\n",
        "from gym.wrappers import Monitor\n",
        "\n",
        "gymlogger.set_level(40) #error only\n",
        "import tensorflow as tf\n",
        "import numpy as np\n",
        "import random\n",
        "import matplotlib\n",
        "import matplotlib.pyplot as plt\n",
        "import pandas as pd\n",
        "import torch\n",
        "from collections import deque\n",
        "%matplotlib inline\n",
        "\n",
        "import math\n",
        "import glob\n",
        "import io\n",
        "import base64\n",
        "\n",
        "from IPython.display import HTML\n",
        "from IPython import display as ipythondisplay"
      ],
      "execution_count": 0,
      "outputs": []
    },
    {
      "cell_type": "code",
      "metadata": {
        "id": "nQEtc28G4niA",
        "colab_type": "code",
        "outputId": "569f918b-5fb6-437e-d1ac-a46238b13a14",
        "colab": {
          "base_uri": "https://localhost:8080/",
          "height": 55
        }
      },
      "source": [
        "from pyvirtualdisplay import Display\n",
        "display = Display(visible=0, size=(1400, 900))\n",
        "display.start()"
      ],
      "execution_count": 0,
      "outputs": [
        {
          "output_type": "execute_result",
          "data": {
            "text/plain": [
              "<Display cmd_param=['Xvfb', '-br', '-nolisten', 'tcp', '-screen', '0', '1400x900x24', ':1001'] cmd=['Xvfb', '-br', '-nolisten', 'tcp', '-screen', '0', '1400x900x24', ':1001'] oserror=None return_code=None stdout=\"None\" stderr=\"None\" timeout_happened=False>"
            ]
          },
          "metadata": {
            "tags": []
          },
          "execution_count": 4
        }
      ]
    },
    {
      "cell_type": "code",
      "metadata": {
        "id": "MPknzUMCp2iA",
        "colab_type": "code",
        "colab": {}
      },
      "source": [
        "# Start virtual display\n",
        "from pyvirtualdisplay import Display\n",
        "display = Display(visible=0, size=(1024, 768))\n",
        "display.start()\n",
        "import os\n",
        "os.environ[\"DISPLAY\"] = \":\" + str(display.display) + \".\" + str(display.screen)\n"
      ],
      "execution_count": 0,
      "outputs": []
    },
    {
      "cell_type": "code",
      "metadata": {
        "id": "G9UWeToN4r7D",
        "colab_type": "code",
        "colab": {}
      },
      "source": [
        "\"\"\"\n",
        "Utility functions to enable video recording of gym environment and displaying it\n",
        "To enable video, just do \"env = wrap_env(env)\"\"\n",
        "\"\"\"\n",
        "\n",
        "def show_video():\n",
        "    mp4list = glob.glob('video/*.mp4')\n",
        "    if len(mp4list) > 0:\n",
        "        mp4 = mp4list[0]\n",
        "        video = io.open(mp4, 'r+b').read()\n",
        "        encoded = base64.b64encode(video)\n",
        "        ipythondisplay.display(HTML(data='''<video alt=\"test\" autoplay \n",
        "                    loop controls style=\"height: 400px;\">\n",
        "                    <source src=\"data:video/mp4;base64,{0}\" type=\"video/mp4\" />\n",
        "                 </video>'''.format(encoded.decode('ascii'))))\n",
        "    else: \n",
        "        print(\"Could not find video\")\n",
        "    \n",
        "\n",
        "def wrap_env(env):\n",
        "    env = Monitor(env, './video', force=True)\n",
        "    return env"
      ],
      "execution_count": 0,
      "outputs": []
    },
    {
      "cell_type": "code",
      "metadata": {
        "id": "YP2QrujKedT3",
        "colab_type": "code",
        "colab": {}
      },
      "source": [
        "# Code to reset environment\n",
        "def reset_env():\n",
        "    while True:\n",
        "        action = env.action_space.sample()\n",
        "        observation, reward, done, info = env.step(action)\n",
        "        if done:\n",
        "            break"
      ],
      "execution_count": 0,
      "outputs": []
    },
    {
      "cell_type": "code",
      "metadata": {
        "id": "OchmDerQJXbN",
        "colab_type": "code",
        "colab": {}
      },
      "source": [
        "def get_bins():\n",
        "\n",
        "    bins = {}\n",
        "    \n",
        "    # poleangle\n",
        "    minimum = env.observation_space.low[2]\n",
        "    maximum = env.observation_space.high[2]\n",
        "    bins['poleangle'] = pd.cut([minimum, maximum], bins=6, retbins=True)[1]\n",
        "    \n",
        "    # polevelocity\n",
        "    bins['polevelocity'] = pd.cut([-1, 1], bins=12, retbins=True)[1]\n",
        "\n",
        "    return bins\n",
        "\n",
        "\n",
        "def state_encoder(observation, bins):\n",
        "    cartposition = observation[0]     # x\n",
        "    cartvelocity = observation[1]     # x_dot\n",
        "    poleangle = observation[2]        # theta\n",
        "    polevelocity = observation[3]     # theta_dot\n",
        "\t\n",
        "    # cartposition\n",
        "    x1 = 0\n",
        "    \n",
        "    # cartvelocity\n",
        "    x2 = 0\n",
        "    \n",
        "    # poleangle\n",
        "    x3 = pd.cut([poleangle], bins=bins['poleangle'], labels=False)[0]\n",
        "    if (pd.isnull(x3)):\n",
        "        x3 = -1\n",
        "    \n",
        "    # cartvelocity\n",
        "    x4 = pd.cut([polevelocity], bins=bins['polevelocity'], labels=False)[0]\n",
        "    if (pd.isnull(x4)):\n",
        "        x4 = -1\n",
        "    \n",
        "    return (x1, x2, x3, x4)\n"
      ],
      "execution_count": 0,
      "outputs": []
    },
    {
      "cell_type": "code",
      "metadata": {
        "id": "r7SHFDRabquH",
        "colab_type": "code",
        "colab": {}
      },
      "source": [
        "def get_epsilon(t):\n",
        "    min_epsilon = 0.1\n",
        "    ada_divisor = 25\n",
        "    return max(min_epsilon, min(1, 1.0 - math.log10((t + 1) / ada_divisor)))\n",
        "\n",
        "def get_alpha(t):\n",
        "    min_alpha = 0.1\n",
        "    ada_divisor = 25\n",
        "    return max(min_alpha, min(1.0, 1.0 - math.log10((t + 1) / ada_divisor)))"
      ],
      "execution_count": 0,
      "outputs": []
    },
    {
      "cell_type": "code",
      "metadata": {
        "id": "7qG-v7mcc0X-",
        "colab_type": "code",
        "colab": {}
      },
      "source": [
        "def getQValue(state, action):\n",
        "    return qvalues[state + (action, )]\n",
        "\n",
        "\n",
        "def computeActionFromQValues(state):\n",
        "    legalActions = [i for i in range(env.action_space.n)]\n",
        "    list_actions = []\n",
        "\n",
        "    # get list of actions with max qvalues\n",
        "    max_value = computeValueFromQValues(state)\n",
        "    for action in legalActions:\n",
        "        if getQValue(state, action) == max_value:\n",
        "            list_actions.append(action)\n",
        "\n",
        "    return random.choice(list_actions)\n",
        "\n",
        "\n",
        "def computeValueFromQValues(state):\n",
        "    return qvalues[state].max()\n",
        "    \n",
        "\n",
        "def update(old_observation, action, observation, reward):\n",
        "    \n",
        "    # old estimate\n",
        "    old_estimate = getQValue(old_observation, action)\n",
        "\n",
        "    # new sample estimate\n",
        "    new_estimate = reward + (discount*computeValueFromQValues(observation))\n",
        "    \n",
        "    # running average\n",
        "    new_qvalue = ((1 - alpha)*old_estimate) + (alpha*new_estimate)\n",
        "\n",
        "    qvalues[old_observation + (action, )] = new_qvalue"
      ],
      "execution_count": 0,
      "outputs": []
    },
    {
      "cell_type": "markdown",
      "metadata": {
        "id": "W3BGbWOu179M",
        "colab_type": "text"
      },
      "source": [
        "# Perform learning"
      ]
    },
    {
      "cell_type": "code",
      "metadata": {
        "id": "wQyMAd-yvyti",
        "colab_type": "code",
        "colab": {}
      },
      "source": [
        "#from gym.envs.registration import register\n",
        "#register(\n",
        "#    id='FrozenLakeNotSlippery-v0',\n",
        "#    entry_point='gym.envs.toy_text:FrozenLakeEnv',\n",
        "#    kwargs={'map_name' : '4x4', 'is_slippery': False},\n",
        "#    max_episode_steps=100,\n",
        "#    reward_threshold=0.78, # optimum = .8196\n",
        "#)"
      ],
      "execution_count": 0,
      "outputs": []
    },
    {
      "cell_type": "code",
      "metadata": {
        "id": "dGEFMfDOzLen",
        "colab_type": "code",
        "colab": {}
      },
      "source": [
        "#env = wrap_env(gym.make(\"FrozenLake-v0\"))\n",
        "#env = wrap_env(gym.make(\"FrozenLakeNotSlippery-v0\"))\n",
        "env = gym.make(\"CartPole-v0\")"
      ],
      "execution_count": 0,
      "outputs": []
    },
    {
      "cell_type": "code",
      "metadata": {
        "id": "j9LfcbqquHWO",
        "colab_type": "code",
        "outputId": "ad8baeb2-5469-4408-d03d-3fcb701be347",
        "colab": {
          "base_uri": "https://localhost:8080/",
          "height": 53
        }
      },
      "source": [
        "# Print inforrmation about the gym\n",
        "print(env.action_space)\n",
        "print(env.observation_space)"
      ],
      "execution_count": 0,
      "outputs": [
        {
          "output_type": "stream",
          "text": [
            "Discrete(2)\n",
            "Box(4,)\n"
          ],
          "name": "stdout"
        }
      ]
    },
    {
      "cell_type": "code",
      "metadata": {
        "id": "gWvdRaG_pKjF",
        "colab_type": "code",
        "colab": {}
      },
      "source": [
        "ep_steps = pd.DataFrame()\n",
        "qvalues = torch.zeros(1, 1, 6, 12, env.action_space.n)\n",
        "nepisodes = 300\n",
        "discount = 1"
      ],
      "execution_count": 0,
      "outputs": []
    },
    {
      "cell_type": "code",
      "metadata": {
        "id": "8nj5sjsk15IT",
        "colab_type": "code",
        "outputId": "917f5392-e9ee-4015-fef6-1f4ae9001ed1",
        "colab": {
          "base_uri": "https://localhost:8080/",
          "height": 485
        }
      },
      "source": [
        "nepisode = 0\n",
        "scores = deque(maxlen=100)\n",
        "solved = 0\n",
        "bins = get_bins()\n",
        "\n",
        "for _ in range(nepisodes):\n",
        "    old_observation = observation = state_encoder(env.reset(), bins)\n",
        "    \n",
        "    nsteps = 0\n",
        "    \n",
        "    while True:        \n",
        "        epsilon = get_epsilon(nepisode)\n",
        "        alpha = get_alpha(nepisode)\n",
        "        \n",
        "        nsteps += 1\n",
        "        \n",
        "        # Choose action\n",
        "        if random.random() < epsilon:\n",
        "            action = env.action_space.sample()\n",
        "            observation, reward, done, info = env.step(action)\n",
        "            observation = state_encoder(observation, bins)\n",
        "            \n",
        "        else:\n",
        "            action = computeActionFromQValues(observation)\n",
        "            observation, reward, done, info = env.step(action)\n",
        "            observation = state_encoder(observation, bins)\n",
        "            \n",
        "        # update\n",
        "        update(old_observation, action, observation, reward)\n",
        "        \n",
        "        # assign old observation\n",
        "        old_observation = observation\n",
        "                    \n",
        "        if done: \n",
        "            nepisode += 1\n",
        "            ep_steps.loc[nepisode, 'step'] = nsteps\n",
        "            if nepisode % 10 == 0:\n",
        "                print('episode {} is done: {}'.format(nepisode, nsteps))\n",
        "\n",
        "            scores.append(nsteps)\n",
        "\n",
        "            mean_score = np.mean(scores)\n",
        "            if mean_score >= 195 and nepisode >= 100:\n",
        "                solved = 1\n",
        "                print('Solved after {} episodes'.format(nepisode))\n",
        "            break\n",
        "\n",
        "    if solved:\n",
        "        break"
      ],
      "execution_count": 0,
      "outputs": [
        {
          "output_type": "stream",
          "text": [
            "episode 10 is done: 23\n",
            "episode 20 is done: 35\n",
            "episode 30 is done: 12\n",
            "episode 40 is done: 16\n",
            "episode 50 is done: 14\n",
            "episode 60 is done: 22\n",
            "episode 70 is done: 143\n",
            "episode 80 is done: 39\n",
            "episode 90 is done: 15\n",
            "episode 100 is done: 36\n",
            "episode 110 is done: 56\n",
            "episode 120 is done: 146\n",
            "episode 130 is done: 200\n",
            "episode 140 is done: 38\n",
            "episode 150 is done: 139\n",
            "episode 160 is done: 200\n",
            "episode 170 is done: 200\n",
            "episode 180 is done: 200\n",
            "episode 190 is done: 200\n",
            "episode 200 is done: 200\n",
            "episode 210 is done: 200\n",
            "episode 220 is done: 200\n",
            "episode 230 is done: 200\n",
            "episode 240 is done: 200\n",
            "episode 250 is done: 200\n",
            "Solved after 255 episodes\n"
          ],
          "name": "stdout"
        }
      ]
    },
    {
      "cell_type": "markdown",
      "metadata": {
        "id": "nX0nZ1qtWlZ6",
        "colab_type": "text"
      },
      "source": [
        ""
      ]
    },
    {
      "cell_type": "code",
      "metadata": {
        "id": "v2gO6_OfCisD",
        "colab_type": "code",
        "outputId": "294b4d54-dee8-45f4-f8fd-46411ccdd423",
        "colab": {
          "base_uri": "https://localhost:8080/",
          "height": 287
        }
      },
      "source": [
        "ep_steps.plot(kind='line')"
      ],
      "execution_count": 0,
      "outputs": [
        {
          "output_type": "execute_result",
          "data": {
            "text/plain": [
              "<matplotlib.axes._subplots.AxesSubplot at 0x7fa61ddc06a0>"
            ]
          },
          "metadata": {
            "tags": []
          },
          "execution_count": 35
        },
        {
          "output_type": "display_data",
          "data": {
            "image/png": "[encoded data removed]",
            "text/plain": [
              "<Figure size 432x288 with 1 Axes>"
            ]
          },
          "metadata": {
            "tags": []
          }
        }
      ]
    },
    {
      "cell_type": "markdown",
      "metadata": {
        "id": "62l1ySvpgwiq",
        "colab_type": "text"
      },
      "source": [
        ""
      ]
    },
    {
      "cell_type": "markdown",
      "metadata": {
        "id": "MwBrxrFoeliw",
        "colab_type": "text"
      },
      "source": [
        "### Watch the learned policy"
      ]
    },
    {
      "cell_type": "code",
      "metadata": {
        "id": "KcyS8F6UVsfy",
        "colab_type": "code",
        "colab": {}
      },
      "source": [
        "#reset_env()"
      ],
      "execution_count": 0,
      "outputs": []
    },
    {
      "cell_type": "code",
      "metadata": {
        "id": "E09flHPvtijJ",
        "colab_type": "code",
        "outputId": "e98e7cf5-1145-4db1-e393-f25726b4dc61",
        "colab": {
          "base_uri": "https://localhost:8080/",
          "height": 438
        }
      },
      "source": [
        "env = wrap_env(gym.make(\"CartPole-v0\"))\n",
        "\n",
        "old_observation = observation = state_encoder(env.reset(), bins)\n",
        "step = 0\n",
        "\n",
        "while True:\n",
        "    env.render()\n",
        "        \n",
        "    epsilon = 0\n",
        "        \n",
        "    action = computeActionFromQValues(observation)\n",
        "    observation, reward, done, info = env.step(action)\n",
        "    observation = state_encoder(observation, bins)\n",
        "                  \n",
        "    step+=1\n",
        "        \n",
        "    if done: \n",
        "        print('Done!', step)\n",
        "        break;\n",
        "\n",
        "env.close()    \n",
        "\n",
        "show_video()\n"
      ],
      "execution_count": 0,
      "outputs": [
        {
          "output_type": "stream",
          "text": [
            "Done! 200\n"
          ],
          "name": "stdout"
        },
        {
          "output_type": "display_data",
          "data": {
            "text/html": [
              "<video alt=\"test\" autoplay \n",
              "                    loop controls style=\"height: 400px;\">\n",
              "                    <source src=\"data:video/mp4;base64,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\" type=\"video/mp4\" />\n",
              "                 </video>"
            ],
            "text/plain": [
              "<IPython.core.display.HTML object>"
            ]
          },
          "metadata": {
            "tags": []
          }
        }
      ]
    },
    {
      "cell_type": "markdown",
      "metadata": {
        "id": "bLuG10Nm_e46",
        "colab_type": "text"
      },
      "source": [
        "### Appendices"
      ]
    },
    {
      "cell_type": "code",
      "metadata": {
        "id": "ww3QyzYt_c9i",
        "colab_type": "code",
        "outputId": "dc0502e9-140a-4802-fb81-d74a5df43584",
        "colab": {
          "base_uri": "https://localhost:8080/",
          "height": 287
        }
      },
      "source": [
        "epsilon_adaptive_learning = pd.DataFrame()\n",
        "for i in range(500):\n",
        "    epsilon_adaptive_learning.loc[i, 'value'] = get_epsilon(i)\n",
        "    \n",
        "epsilon_adaptive_learning.plot(kind='line')"
      ],
      "execution_count": 0,
      "outputs": [
        {
          "output_type": "execute_result",
          "data": {
            "text/plain": [
              "<matplotlib.axes._subplots.AxesSubplot at 0x7fa612a97908>"
            ]
          },
          "metadata": {
            "tags": []
          },
          "execution_count": 37
        },
        {
          "output_type": "display_data",
          "data": {
            "image/png": "[encoded data removed]",
            "text/plain": [
              "<Figure size 432x288 with 1 Axes>"
            ]
          },
          "metadata": {
            "tags": []
          }
        }
      ]
    },
    {
      "cell_type": "code",
      "metadata": {
        "id": "TKaAF8CS_h0l",
        "colab_type": "code",
        "outputId": "175aac81-c7af-4512-9422-4d0b5082228c",
        "colab": {
          "base_uri": "https://localhost:8080/",
          "height": 287
        }
      },
      "source": [
        "alpha_adaptive_learning = pd.DataFrame()\n",
        "for i in range(500):\n",
        "    alpha_adaptive_learning.loc[i, 'value'] = get_alpha(i)\n",
        "    \n",
        "alpha_adaptive_learning.plot(kind='line')"
      ],
      "execution_count": 0,
      "outputs": [
        {
          "output_type": "execute_result",
          "data": {
            "text/plain": [
              "<matplotlib.axes._subplots.AxesSubplot at 0x7fa612a69400>"
            ]
          },
          "metadata": {
            "tags": []
          },
          "execution_count": 38
        },
        {
          "output_type": "display_data",
          "data": {
            "image/png": "[encoded data removed]",
            "text/plain": [
              "<Figure size 432x288 with 1 Axes>"
            ]
          },
          "metadata": {
            "tags": []
          }
        }
      ]
    },
    {
      "cell_type": "code",
      "metadata": {
        "id": "aR1GNFEifF6C",
        "colab_type": "code",
        "colab": {}
      },
      "source": [
        ""
      ],
      "execution_count": 0,
      "outputs": []
    }
  ]
}