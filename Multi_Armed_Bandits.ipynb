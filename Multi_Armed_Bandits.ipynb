{
  "nbformat": 4,
  "nbformat_minor": 0,
  "metadata": {
    "colab": {
      "name": "Multi Armed Bandits.ipynb",
      "version": "0.3.2",
      "provenance": [],
      "collapsed_sections": [],
      "include_colab_link": true
    },
    "kernelspec": {
      "name": "python3",
      "display_name": "Python 3"
    }
  },
  "cells": [
    {
      "cell_type": "markdown",
      "metadata": {
        "id": "view-in-github",
        "colab_type": "text"
      },
      "source": [
        "<a href=\"https://colab.research.google.com/github/jsleroux/ReinforcementLearningProjects/blob/master/Multi_Armed_Bandits.ipynb\" target=\"_parent\"><img src=\"https://colab.research.google.com/assets/colab-badge.svg\" alt=\"Open In Colab\"/></a>"
      ]
    },
    {
      "cell_type": "code",
      "metadata": {
        "id": "g6PGSTAs-9t2",
        "colab_type": "code",
        "colab": {}
      },
      "source": [
        "#remove \" > /dev/null 2>&1\" to see what is going on under the hood\n",
        "!pip install gym pyvirtualdisplay > /dev/null 2>&1\n",
        "!apt-get install -y xvfb python-opengl ffmpeg > /dev/null 2>&1"
      ],
      "execution_count": 0,
      "outputs": []
    },
    {
      "cell_type": "code",
      "metadata": {
        "id": "lSDYH0er_D_j",
        "colab_type": "code",
        "outputId": "ccffda85-d38f-4190-a9a1-c287587c6e79",
        "colab": {
          "base_uri": "https://localhost:8080/",
          "height": 34
        }
      },
      "source": [
        "!apt-get update > /dev/null 2>&1\n",
        "!apt-get install cmake > /dev/null 2>&1\n",
        "!pip install --upgrade setuptools 2>&1\n",
        "!pip install ez_setup > /dev/null 2>&1\n",
        "!pip install gym[atari] > /dev/null 2>&1\n",
        "!pip install torch==1.0.0 > /dev/null 2>&1"
      ],
      "execution_count": 0,
      "outputs": [
        {
          "output_type": "stream",
          "text": [
            "Requirement already up-to-date: setuptools in /usr/local/lib/python3.6/dist-packages (41.0.1)\n"
          ],
          "name": "stdout"
        }
      ]
    },
    {
      "cell_type": "code",
      "metadata": {
        "id": "GowB6uZWDNQW",
        "colab_type": "code",
        "colab": {}
      },
      "source": [
        "import gym\n",
        "from gym import logger as gymlogger\n",
        "from gym.wrappers import Monitor\n",
        "\n",
        "gymlogger.set_level(40) #error only\n",
        "import tensorflow as tf\n",
        "import numpy as np\n",
        "import random\n",
        "import matplotlib\n",
        "import matplotlib.pyplot as plt\n",
        "import numpy as np\n",
        "import pandas as pd\n",
        "import torch\n",
        "from collections import deque\n",
        "%matplotlib inline\n",
        "\n",
        "import math\n",
        "import glob\n",
        "import io\n",
        "import base64\n",
        "\n",
        "from IPython.display import HTML\n",
        "from IPython import display as ipythondisplay"
      ],
      "execution_count": 0,
      "outputs": []
    },
    {
      "cell_type": "code",
      "metadata": {
        "id": "dALp4eoC_Fke",
        "colab_type": "code",
        "colab": {}
      },
      "source": [
        "!git clone https://github.com/JKCooper2/gym-bandits.git > /dev/null 2>&1\n",
        "!pip install /content/gym-bandits/. > /dev/null 2>&1"
      ],
      "execution_count": 0,
      "outputs": []
    },
    {
      "cell_type": "code",
      "metadata": {
        "id": "kIetFx9IBZBN",
        "colab_type": "code",
        "colab": {}
      },
      "source": [
        "import gym_bandits"
      ],
      "execution_count": 0,
      "outputs": []
    },
    {
      "cell_type": "code",
      "metadata": {
        "id": "dtmsQOWFCnHV",
        "colab_type": "code",
        "colab": {}
      },
      "source": [
        "env = gym.make('BanditTenArmedGaussian-v0')"
      ],
      "execution_count": 0,
      "outputs": []
    },
    {
      "cell_type": "code",
      "metadata": {
        "id": "Rnq7aZ51vh5U",
        "colab_type": "code",
        "outputId": "bb1c1598-d05a-4106-f21f-7f50728e1bd3",
        "colab": {
          "base_uri": "https://localhost:8080/",
          "height": 187
        }
      },
      "source": [
        "%%time\n",
        "env.reset()\n",
        "epsilon = 0.1\n",
        "runs = 2000\n",
        "steps = 1000\n",
        "\n",
        "results = np.ndarray([steps, runs], dtype=np.float16)\n",
        "\n",
        "for run in range(runs):\n",
        "    qvalues = np.zeros([env.action_space.n])\n",
        "    nvalues = np.zeros([env.action_space.n])\n",
        "\n",
        "    for step in range(steps):\n",
        "        if random.random() < epsilon:\n",
        "            action = env.action_space.sample()\n",
        "            observation, reward, done, info = env.step(action)\n",
        "\n",
        "        else:\n",
        "            # Make sure to not always take the same action when random\n",
        "            action = np.random.choice(np.flatnonzero(qvalues == qvalues.max()))\n",
        "            observation, reward, done, info = env.step(action)\n",
        "\n",
        "        nvalues[action] += 1\n",
        "        qvalues[action] = qvalues[action] + (reward - qvalues[action]) / nvalues[action]        \n",
        "\n",
        "        results[step, run] = reward\n",
        "            \n",
        "    if run%250 == 0:\n",
        "        print(run)"
      ],
      "execution_count": 0,
      "outputs": [
        {
          "output_type": "stream",
          "text": [
            "0\n",
            "250\n",
            "500\n",
            "750\n",
            "1000\n",
            "1250\n",
            "1500\n",
            "1750\n",
            "CPU times: user 49.8 s, sys: 112 ms, total: 49.9 s\n",
            "Wall time: 49.8 s\n"
          ],
          "name": "stdout"
        }
      ]
    },
    {
      "cell_type": "code",
      "metadata": {
        "id": "0zsqhzn_Br-Y",
        "colab_type": "code",
        "colab": {}
      },
      "source": [
        "graph = pd.DataFrame()\n",
        "graph['0.1'] = results.mean(axis=1)"
      ],
      "execution_count": 0,
      "outputs": []
    },
    {
      "cell_type": "code",
      "metadata": {
        "id": "pXYsmRq_B1p3",
        "colab_type": "code",
        "outputId": "4d97dec5-a342-4285-ca69-1f1fe0361593",
        "colab": {
          "base_uri": "https://localhost:8080/",
          "height": 187
        }
      },
      "source": [
        "%%time\n",
        "env.reset()\n",
        "epsilon = 0.01\n",
        "runs = 2000\n",
        "steps = 1000\n",
        "\n",
        "results = np.ndarray([steps, runs], dtype=np.float16)\n",
        "\n",
        "for run in range(runs):\n",
        "    qvalues = np.zeros([env.action_space.n])\n",
        "    nvalues = np.zeros([env.action_space.n])\n",
        "\n",
        "    for step in range(steps):\n",
        "        if random.random() < epsilon:\n",
        "            action = env.action_space.sample()\n",
        "            observation, reward, done, info = env.step(action)\n",
        "\n",
        "        else:\n",
        "            # Make sure to not always take the same action when random\n",
        "            action = np.random.choice(np.flatnonzero(qvalues == qvalues.max()))\n",
        "            observation, reward, done, info = env.step(action)\n",
        "\n",
        "        nvalues[action] += 1\n",
        "        qvalues[action] = qvalues[action] + (reward - qvalues[action]) / nvalues[action]        \n",
        "\n",
        "        results[step, run] = reward\n",
        "            \n",
        "    if run%250 == 0:\n",
        "        print(run)"
      ],
      "execution_count": 0,
      "outputs": [
        {
          "output_type": "stream",
          "text": [
            "0\n",
            "250\n",
            "500\n",
            "750\n",
            "1000\n",
            "1250\n",
            "1500\n",
            "1750\n",
            "CPU times: user 56.4 s, sys: 122 ms, total: 56.5 s\n",
            "Wall time: 56.3 s\n"
          ],
          "name": "stdout"
        }
      ]
    },
    {
      "cell_type": "code",
      "metadata": {
        "id": "WhMi2V7xB1ZZ",
        "colab_type": "code",
        "colab": {}
      },
      "source": [
        "graph['0.01'] = results.mean(axis=1)"
      ],
      "execution_count": 0,
      "outputs": []
    },
    {
      "cell_type": "code",
      "metadata": {
        "id": "Tm_aiYXVCTWO",
        "colab_type": "code",
        "outputId": "db5c5bfe-c35e-4d43-8b92-cb8343bd1c74",
        "colab": {
          "base_uri": "https://localhost:8080/",
          "height": 187
        }
      },
      "source": [
        "%%time\n",
        "env.reset()\n",
        "epsilon = 0\n",
        "runs = 2000\n",
        "steps = 1000\n",
        "\n",
        "results = np.ndarray([steps, runs], dtype=np.float16)\n",
        "\n",
        "for run in range(runs):\n",
        "    qvalues = np.zeros([env.action_space.n])\n",
        "    nvalues = np.zeros([env.action_space.n])\n",
        "\n",
        "    for step in range(steps):\n",
        "        if random.random() < epsilon:\n",
        "            action = env.action_space.sample()\n",
        "            observation, reward, done, info = env.step(action)\n",
        "\n",
        "        else:\n",
        "            # Make sure to not always take the same action when random\n",
        "            action = np.random.choice(np.flatnonzero(qvalues == qvalues.max()))\n",
        "            observation, reward, done, info = env.step(action)\n",
        "\n",
        "        nvalues[action] += 1\n",
        "        qvalues[action] = qvalues[action] + (reward - qvalues[action]) / nvalues[action]        \n",
        "\n",
        "        results[step, run] = reward\n",
        "            \n",
        "    if run%250 == 0:\n",
        "        print(run)"
      ],
      "execution_count": 0,
      "outputs": [
        {
          "output_type": "stream",
          "text": [
            "0\n",
            "250\n",
            "500\n",
            "750\n",
            "1000\n",
            "1250\n",
            "1500\n",
            "1750\n",
            "CPU times: user 57.7 s, sys: 131 ms, total: 57.8 s\n",
            "Wall time: 57.6 s\n"
          ],
          "name": "stdout"
        }
      ]
    },
    {
      "cell_type": "code",
      "metadata": {
        "id": "pquKfTnSCTEj",
        "colab_type": "code",
        "colab": {}
      },
      "source": [
        "graph['0 (greedy)'] = results.mean(axis=1)"
      ],
      "execution_count": 0,
      "outputs": []
    },
    {
      "cell_type": "code",
      "metadata": {
        "id": "XIOtLRk8DoWy",
        "colab_type": "code",
        "outputId": "e0ce76ab-6665-4872-da49-4b37e84375ac",
        "colab": {
          "base_uri": "https://localhost:8080/",
          "height": 312
        }
      },
      "source": [
        "ax = graph.plot(title='Average reward based on epsilon - multi armed bandits')\n",
        "ax.set_xlabel('Steps')\n",
        "ax.set_ylabel('Average reward')"
      ],
      "execution_count": 0,
      "outputs": [
        {
          "output_type": "execute_result",
          "data": {
            "text/plain": [
              "Text(0, 0.5, 'Average reward')"
            ]
          },
          "metadata": {
            "tags": []
          },
          "execution_count": 14
        },
        {
          "output_type": "display_data",
          "data": {
            "image/png": "[encoded data removed]",
            "text/plain": [
              "<Figure size 432x288 with 1 Axes>"
            ]
          },
          "metadata": {
            "tags": []
          }
        }
      ]
    },
    {
      "cell_type": "code",
      "metadata": {
        "id": "UCKuXUCi7kx1",
        "colab_type": "code",
        "colab": {}
      },
      "source": [
        ""
      ],
      "execution_count": 0,
      "outputs": []
    }
  ]
}